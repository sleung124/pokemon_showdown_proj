{
 "cells": [
  {
   "cell_type": "markdown",
   "metadata": {},
   "source": [
    "# Grabbing replay logs from Pokemon Showdown"
   ]
  },
  {
   "cell_type": "code",
   "execution_count": 20,
   "metadata": {},
   "outputs": [],
   "source": [
    "import requests\n",
    "from tqdm import tqdm\n",
    "\n",
    "pkmon_format = 'gen8vgc2021series11'\n",
    "showdown_replay_url = f'https://replay.pokemonshowdown.com/search.json?format={pkmon_format}'\n",
    "\n",
    "def get_replay_id(replay_url: str, limit: int) -> list[str]:\n",
    "    replay_id = []\n",
    "    for i in range(limit):\n",
    "        data = requests.get(f'{replay_url}&page={i+1}').json()\n",
    "        for item in data:\n",
    "            replay_id.append(item['id'])\n",
    "    return replay_id\n",
    "\n",
    "def get_replay_data(replay_id: str) -> dict:\n",
    "    game_log_url = f'https://replay.pokemonshowdown.com/{replay_id}.json'\n",
    "    return requests.get(game_log_url).json()\n",
    "\n",
    "def get_data(replay_url:str) -> list[dict]:\n",
    "    replay_ids = get_replay_id(replay_url, 25)\n",
    "    return [get_replay_data(x) for x in tqdm(replay_ids)]\n",
    "\n",
    "data = get_data(showdown_replay_url)"
   ]
  },
  {
   "cell_type": "markdown",
   "metadata": {},
   "source": [
    "# Saving data to CSV for easier access"
   ]
  },
  {
   "cell_type": "code",
   "execution_count": 22,
   "metadata": {},
   "outputs": [],
   "source": [
    "import pandas\n",
    "df = pandas.DataFrame(data)\n",
    "df.to_csv(\"data.csv\", sep=',',index=False)\n",
    "\n",
    "# pandas.read_csv(\"data.csv\") to import data again"
   ]
  }
 ],
 "metadata": {
  "interpreter": {
   "hash": "da57f39eaecc1396bcee3ef38908c3193755c1454c0300f895a1bb3fe828566e"
  },
  "kernelspec": {
   "display_name": "Python 3.9.7 64-bit ('.venv': venv)",
   "language": "python",
   "name": "python3"
  },
  "language_info": {
   "codemirror_mode": {
    "name": "ipython",
    "version": 3
   },
   "file_extension": ".py",
   "mimetype": "text/x-python",
   "name": "python",
   "nbconvert_exporter": "python",
   "pygments_lexer": "ipython3",
   "version": "3.9.7"
  },
  "orig_nbformat": 4
 },
 "nbformat": 4,
 "nbformat_minor": 2
}
